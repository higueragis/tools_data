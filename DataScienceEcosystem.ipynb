{
 "cells": [
  {
   "cell_type": "markdown",
   "id": "ccf554eb-be7c-42f5-911f-80e0486f464e",
   "metadata": {},
   "source": [
    "# Data Science Tools and Ecosystem"
   ]
  },
  {
   "cell_type": "markdown",
   "id": "1db1ac25-f219-489b-8cdb-8f8e086984b1",
   "metadata": {},
   "source": [
    "In this notebook, Data Science Tools and Ecosystem are summarized"
   ]
  },
  {
   "cell_type": "markdown",
   "id": "f10ad41e-5b31-41f2-8b79-6b35b539fb9d",
   "metadata": {},
   "source": [
    "***Objectives:***\n",
    "\n",
    "+ Popular langages\n",
    "+ Libraries\n",
    "+ Data science tools\n"
   ]
  },
  {
   "cell_type": "markdown",
   "id": "b3bab77f-4e75-480c-88e6-918dc5394e0b",
   "metadata": {},
   "source": [
    "Some of the popular languages that Data Scientists use are:\n",
    "\n",
    "1. Python\n",
    "2. R\n",
    "3. Julia"
   ]
  },
  {
   "cell_type": "markdown",
   "id": "17e39463-4a41-4b64-8833-97a45e4383be",
   "metadata": {},
   "source": [
    "Some of the commonly used libraries used by Data Scientists include:\n",
    "    \n",
    "1. Pandas\n",
    "2. Numpy\n",
    "3. Seaborn"
   ]
  },
  {
   "cell_type": "markdown",
   "id": "e12cdc84-8994-4317-bf98-79f8c4e8b4f1",
   "metadata": {},
   "source": [
    "| Data Science Tools |\n",
    "| ------------------ |\n",
    "| PJupyter Notebooks |\n",
    "| RStudio |\n",
    "| Visual Studio code |\n"
   ]
  },
  {
   "cell_type": "markdown",
   "id": "62ddd88f-7e88-4454-bc19-87ac509150ff",
   "metadata": {},
   "source": [
    "### Below are a few examples of evaluating arithmetic expressions in Python"
   ]
  },
  {
   "cell_type": "code",
   "execution_count": 7,
   "id": "9c35504b-67f1-4c54-b0ad-1e5fa902e7c6",
   "metadata": {},
   "outputs": [
    {
     "data": {
      "text/plain": [
       "17"
      ]
     },
     "execution_count": 7,
     "metadata": {},
     "output_type": "execute_result"
    }
   ],
   "source": [
    "#This a simple arithmetic expression to mutiply then add integers\n",
    "(3*4)+5 \n"
   ]
  },
  {
   "cell_type": "code",
   "execution_count": 8,
   "id": "5c7d4c9a-7253-4538-a333-df6f6e7d1336",
   "metadata": {},
   "outputs": [
    {
     "data": {
      "text/plain": [
       "3.3333333333333335"
      ]
     },
     "execution_count": 8,
     "metadata": {},
     "output_type": "execute_result"
    }
   ],
   "source": [
    " # This will convert 200 minutes to hours by diving by 60.\n",
    "200/60"
   ]
  },
  {
   "cell_type": "markdown",
   "id": "105d92f9-bada-4d07-863c-16fecdfc8a0c",
   "metadata": {},
   "source": [
    "## Author\n",
    "__Elena Higuera__\n"
   ]
  }
 ],
 "metadata": {
  "kernelspec": {
   "display_name": "Python 3 (ipykernel)",
   "language": "python",
   "name": "python3"
  },
  "language_info": {
   "codemirror_mode": {
    "name": "ipython",
    "version": 3
   },
   "file_extension": ".py",
   "mimetype": "text/x-python",
   "name": "python",
   "nbconvert_exporter": "python",
   "pygments_lexer": "ipython3",
   "version": "3.10.9"
  }
 },
 "nbformat": 4,
 "nbformat_minor": 5
}
